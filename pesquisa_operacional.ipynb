{
  "nbformat": 4,
  "nbformat_minor": 0,
  "metadata": {
    "colab": {
      "private_outputs": true,
      "provenance": [],
      "toc_visible": true,
      "authorship_tag": "ABX9TyN3ixOQBED9GjMBLPLLZhEa",
      "include_colab_link": true
    },
    "kernelspec": {
      "name": "python3",
      "display_name": "Python 3"
    },
    "language_info": {
      "name": "python"
    }
  },
  "cells": [
    {
      "cell_type": "markdown",
      "metadata": {
        "id": "view-in-github",
        "colab_type": "text"
      },
      "source": [
        "<a href=\"https://colab.research.google.com/github/tumusx/pesquisa-operacional-engineer-eletric/blob/main/pesquisa_operacional.ipynb\" target=\"_parent\"><img src=\"https://colab.research.google.com/assets/colab-badge.svg\" alt=\"Open In Colab\"/></a>"
      ]
    },
    {
      "cell_type": "markdown",
      "source": [
        "*  Problema de geração de energia elétric: \n",
        "> Descobrir quais geradores devem atender as demandas previstas (sabendo que deve até 115% da demanda prevista) para minimizar o custo total da geração da energia elétrica sem haver perdas.\n",
        "\n",
        "----\n",
        "* VARIAVÉIS DE DECISÃO\n",
        "        -> quantidade de geradores disponíveis;\n",
        "        -> tipo de gerador xs cada período de tempo;\n",
        "        -> custo do gerador ao ser ligado;\n",
        "       \n",
        "* Existe um custo alto para ligar um gerador. geradores do tipo 0 custa 2000 doláres, tipo 1 custa 1000 doláres e tipo 2 custa 500 doláres.\n",
        "\n",
        "podemos ter o seguinte = tipo de gerador no período X\n",
        "> \n",
        "    x11 (tipo 0) = 12 pm to 6 am \n",
        "    x21 (tipo 1) = 12 pm to 6 am \n",
        "    x31 (tipo 2) = 12 pm to 6 am \n",
        "    x12 (tipo 0) = 6 am to 9 am\n",
        "    x22 (tipo 1) = 6 am to 9 am\n",
        "    x23 (tipo 2) = 6 am to 9 am\n",
        "    x13 (tipo 0) = 9 am to 3 pm\n",
        "    x33 (tipo 1) = 9 am to 3 pm\n",
        "    x33 (tipo 2) = 9 am to 3 pm\n",
        "    x14 (tipo 0) = 3 pm to 6 pm \n",
        "    x24 (tipo 1) = 3 pm to 6 pm \n",
        "    x34 (tipo 2) = 3 pm to 6 pm \n",
        "    x15 (tipo 0) = 6 pm to 12 pm\n",
        "    x25 (tipo 1) = 6 pm to 12 pm\n",
        "    x35 (tipo 2) = 6 pm to 12 pm\n",
        "  \n",
        "custo do gerador ao ser ligado =>\n",
        ">\n",
        "    c1 => qntdGerador do tipo 0 x custo;\n",
        "    c2 => qntdGerador do tipo 1 x custo;\n",
        "    c3 => qntdGerador do tipo 2 x custo;\n",
        "\n",
        "restrições =>   \n",
        "> \n",
        "    tipo gerador que deve ter uma saida minima maior que ... \n",
        "    tipo gerador que deve ter uma saída máxima de ...\n",
        "    (cada gerador deve produzir x de saída mínima e até x de saída máxima)\n",
        "    sendo: x11..x15 >= de 850 e <=2000 + (2000*115%);\n",
        "    sendo: x21..x25 >= 1250 e <=1750 + (1750*115%)\n",
        "    sendo: x31..x35 >= 1500 e 4000 + (4000*115%)\n",
        "\n",
        "x1  = quantidade do gerador ligado no período tempo\n"
      ],
      "metadata": {
        "id": "6QQPwcJY9AWg"
      }
    },
    {
      "cell_type": "code",
      "source": [],
      "metadata": {
        "id": "5xl9YTEeFECA"
      },
      "execution_count": null,
      "outputs": []
    }
  ]
}