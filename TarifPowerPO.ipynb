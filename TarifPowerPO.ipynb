{
  "nbformat": 4,
  "nbformat_minor": 0,
  "metadata": {
    "colab": {
      "private_outputs": true,
      "provenance": [],
      "authorship_tag": "ABX9TyMXbRT95uP164Krwpj1y/z8",
      "include_colab_link": true
    },
    "kernelspec": {
      "name": "python3",
      "display_name": "Python 3"
    },
    "language_info": {
      "name": "python"
    }
  },
  "cells": [
    {
      "cell_type": "markdown",
      "metadata": {
        "id": "view-in-github",
        "colab_type": "text"
      },
      "source": [
        "<a href=\"https://colab.research.google.com/github/tumusx/pesquisa-operacional-engineer-eletric/blob/main/TarifPowerPO.ipynb\" target=\"_parent\"><img src=\"https://colab.research.google.com/assets/colab-badge.svg\" alt=\"Open In Colab\"/></a>"
      ]
    },
    {
      "cell_type": "markdown",
      "source": [
        "Geração de Energia Elétrica -\n",
        "\n",
        "O que o problema está pedindo para resolver\n",
        "> \n",
        "    Saber quantos geradores e quais devem se comprometer a atender a demanda \n",
        "    prevista e minimizando o custo;\n",
        "\n",
        "Portanto, algumas observações é necessário discorrer:\n",
        "> \n",
        "    - Temos 5 período de tempo;\n",
        "    - Cada um deve ter uma demanda prevista de Mw;\n",
        "    - Custo para ligar;\n",
        "    - Custo por hora dos geradores quando disponíveis;\n",
        "    - Tipos dos geradores, onde cada um tem as suas caracteristicas em função do valor;\n",
        "    - Saída miníma que ele deve produzir;\n",
        "    - Saída máxima de MW que pode produzir;\n",
        "    - Quantidade de geradores por tipo;\n",
        "\n",
        "Sabendo disso, vamos a nossas variáveis de decisão:\n",
        "\n",
        "\n",
        "\n",
        "   ***Variável de decisão 1 - Geradores operando em uma quantidade de tempo, onde o tempo é horas***\n",
        "\n",
        "\n",
        "   ***Variável de decisão 2 - Custo de ligar o gerador x quantidade de geradores por tipo***\n",
        "\n",
        "   \n",
        "   ***Variável de decisão 3 - Quantidade de Wats Gerado = tipo (qnt Disponível) x saída mínima***\n",
        "\n",
        "\n",
        "\n",
        "\n",
        "\n",
        "> Restrições\n",
        "\n",
        "    Restrição 1:\n",
        "    A saída total de Wats dos geradores deve ser maior que a demanda prevista, sendo: qtW >= demanda + porcentagem da \n",
        "    demanda prevista;\n",
        "\n",
        "    Restrição 2: \n",
        "    a saída total para cada gerador deve ser maior que a saída mínima \n",
        "    e menor que a saída máxima, sendo: geradorPeríodoTempo <= saídaMáxima e geradorPeríodoTempo=>saídaMínima;\n",
        "\n",
        "\n",
        "\n",
        "----\n",
        "> Função objetivo\n",
        "\n",
        "      custoPorHoraParaDeixarOperando x quantidadeHorasDoPeríodo x quantidadeGeradoresPorTipo x custoLigarCadaGerador\n",
        "\n",
        "\n"
      ],
      "metadata": {
        "id": "16QJM6szVl4m"
      }
    },
    {
      "cell_type": "code",
      "source": [
        "import pulp\n",
        "model = pulp.LpProblem('EngineerEletric - Tarif Power', sense=pulp.LpMinimize)\n",
        "x = pulp.LpVariable.dicts(indices=[1, 2, 3], cat=pulp.LpInteger, lowBound=0, name='otimizacao-demandas')\n",
        "model.addConstraint(1 * x[1] + 1 * x[4] <= 16, name='restricao-1')\n",
        "model.addConstraint(1 * x[2] + 1 * x[5] <= 11, name='restricao-2')\n",
        "model.addConstraint(1 * x[3] + 1 * x[6] <= 23, name='restricao-3')\n",
        "model.addConstraint(1 * x[1] + 1 * x[2] + 1 * x[3] >= 20, name='restricao-4')\n",
        "model.addConstraint(1 * x[4] + 1 * x[5] + 1 * x[6] >= 25, name='restricao-5')\n",
        "model.setObjective(66 * x[1] + 51 * x[2] + 73 *x[3 ] + 54 * x[4] + 82 * x[5] + 63 * x[6])\n",
        "\n",
        "model.solve()\n",
        "x_sol = {i: x[i].value() for i in {1, 2, 3, 4, 5, 6}}\n",
        "print(f'resultado:={x_sol}')"
      ],
      "metadata": {
        "id": "hHnrY9SIeLEj"
      },
      "execution_count": null,
      "outputs": []
    }
  ]
}